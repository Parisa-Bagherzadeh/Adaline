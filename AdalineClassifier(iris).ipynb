{
  "nbformat": 4,
  "nbformat_minor": 0,
  "metadata": {
    "colab": {
      "name": "AdalineClassifier(iris)ipynb",
      "provenance": [],
      "collapsed_sections": []
    },
    "kernelspec": {
      "display_name": "Python 3 (ipykernel)",
      "language": "python",
      "name": "python3"
    },
    "language_info": {
      "codemirror_mode": {
        "name": "ipython",
        "version": 3
      },
      "file_extension": ".py",
      "mimetype": "text/x-python",
      "name": "python",
      "nbconvert_exporter": "python",
      "pygments_lexer": "ipython3",
      "version": "3.7.9"
    }
  },
  "cells": [
    {
      "cell_type": "code",
      "metadata": {
        "id": "Yv4vkuBkzl7Y"
      },
      "source": [
        "import numpy as np\n",
        "import matplotlib.pyplot as plt\n",
        "import pandas as pd\n",
        "from sklearn.model_selection import train_test_split\n",
        "from sklearn.datasets import load_iris"
      ],
      "execution_count": 113,
      "outputs": []
    },
    {
      "cell_type": "code",
      "metadata": {
        "id": "uYZD_VEp3M1o"
      },
      "source": [
        "iris=load_iris()\n",
        "x = iris.data[:, :4]\n",
        "y=iris.target\n",
        "Y=[]\n",
        "X=[]\n",
        "for i in range(len(y)):\n",
        "  if(y[i]==1 or y[i]==2):\n",
        "    Y.append(y[i])\n",
        "    X.append(x[i])\n",
        "\n",
        "X=np.array(X)\n",
        "Y_count=np.bincount(Y)\n",
        "Y=np.array(Y)\n",
        "Y=Y.reshape(100,1)\n",
        "\n",
        "\n"
      ],
      "execution_count": 114,
      "outputs": []
    },
    {
      "cell_type": "code",
      "metadata": {
        "id": "emoDtnQ51Ds1"
      },
      "source": [
        "X_train,X_test,y_train,y_test=train_test_split(X,Y,test_size=0.2)\n",
        "#print(y_test)"
      ],
      "execution_count": 115,
      "outputs": []
    },
    {
      "cell_type": "code",
      "metadata": {
        "id": "1tEkzd557c_i"
      },
      "source": [
        "class AdalineClassifier:\n",
        "  def __init__(self):\n",
        "    pass\n",
        "\n",
        "  def fit(self,X_train,Y_train):\n",
        "    #w=(x.T*x)^-1*x.T*y\n",
        "    self.w=np.matmul(np.linalg.inv(np.matmul(X_train.T,X_train)),np.matmul(X_train.T,Y_train))\n",
        "    #print(self.w)  \n",
        "\n",
        "  def predict(self,X_test):\n",
        "    y_pred=[]\n",
        "\n",
        "    Y_pred=np.matmul(X_test,self.w)\n",
        "    for i in range(len(Y_pred)):\n",
        "      print(Y_pred[i])\n",
        "      if(Y_pred[i] <= 1.5):\n",
        "        y_pred.append(1)\n",
        "      elif(Y_pred[i]>1.5):  \n",
        "        y_pred.append(2)\n",
        "    print(y_pred) \n",
        "    return y_pred\n",
        "      \n",
        "    \n",
        "\n",
        "  def evaluate(self,y_pred,y_test):\n",
        "    num_of_correct_pred=0\n",
        "    #self.X_test=X_test\n",
        "    #self.y_test=y_test\n",
        "    y=[]\n",
        "        \n",
        "    for i in range(len(y_test)):\n",
        "         if(y_test[i]==y_pred[i]):\n",
        "            num_of_correct_pred +=1\n",
        "     \n",
        "     \n",
        "    accuracy=(num_of_correct_pred/len(y_test))*100\n",
        "    \n",
        "        #print(num_of_correct_pred)\n",
        "    return accuracy\n",
        "      #y.append(self.predict(X_test[i]))   \n",
        "      #print(y[i])\n",
        "      \n",
        "       \n",
        "  "
      ],
      "execution_count": 116,
      "outputs": []
    },
    {
      "cell_type": "code",
      "metadata": {
        "id": "uzVU33d6_sJY"
      },
      "source": [
        "\n"
      ],
      "execution_count": 116,
      "outputs": []
    },
    {
      "cell_type": "code",
      "metadata": {
        "colab": {
          "base_uri": "https://localhost:8080/"
        },
        "id": "RSub0VjH_4PW",
        "outputId": "73964946-c993-4385-c553-4f9d2ba53723"
      },
      "source": [
        "model=AdalineClassifier()\n",
        "model.fit(X_train,y_train)\n",
        "\n",
        "y_pred=model.predict(X_test)\n",
        "#print(len(y_pred))\n",
        "accuracy=model.evaluate(y_pred,y_test)\n",
        "print(\"accuracy =\",accuracy)\n"
      ],
      "execution_count": 117,
      "outputs": [
        {
          "output_type": "stream",
          "text": [
            "[0.87381787]\n",
            "[0.76513619]\n",
            "[2.22124201]\n",
            "[0.64184501]\n",
            "[1.07145508]\n",
            "[1.85015224]\n",
            "[1.17840353]\n",
            "[1.7289809]\n",
            "[1.89062113]\n",
            "[1.87400679]\n",
            "[2.12275871]\n",
            "[0.82233807]\n",
            "[0.93718561]\n",
            "[2.0280485]\n",
            "[2.16373588]\n",
            "[1.40865425]\n",
            "[1.81139073]\n",
            "[1.51703169]\n",
            "[1.240271]\n",
            "[1.76033684]\n",
            "[1, 1, 2, 1, 1, 2, 1, 2, 2, 2, 2, 1, 1, 2, 2, 1, 2, 2, 1, 2]\n",
            "accuracy = 95.0\n"
          ],
          "name": "stdout"
        }
      ]
    },
    {
      "cell_type": "code",
      "metadata": {
        "id": "2_JTzIdM1Ds7"
      },
      "source": [
        "class Knearestneighbors:\n",
        "  def __init__(self,k):\n",
        "    self.k=k\n",
        "\n",
        "  def fit(self,X_train,y_train):\n",
        "    self.X_train=X_train\n",
        "    self.y_train=y_train\n",
        "    self.number_of_classes=len(np.unique(y_train)) \n",
        "\n",
        "  def nearNeighbors(self,x_test):\n",
        "    distance=np.sqrt(np.sum((x_test-self.X_train)**2,axis=1))\n",
        "    near_neighbors=np.argsort(distance)[0:self.k]\n",
        "    return near_neighbors  \n",
        "\n",
        "  def predict(self,x_test):\n",
        "    near_neighbors=self.nearNeighbors(x_test)\n",
        "    y_pred=np.argmax(np.bincount(self.y_train[near_neighbors]))\n",
        "    return y_pred\n",
        "\n",
        "  def evaluate(self,X_test,y_test):\n",
        "    num_of_correct_pred=0\n",
        "    self.X_test=X_test\n",
        "    self.y_test=y_test\n",
        "\n",
        "    y=[]\n",
        "\n",
        "    for i in range(len(X_test)):\n",
        "      y.append(self.predict(X_test[i]))\n",
        "\n",
        "    for i in range(len(y)):\n",
        "      if(y_test[i]==y[i]):\n",
        "        num_of_correct_pred +=1\n",
        "\n",
        "\n",
        "    accuracy=(num_of_correct_pred/len(y_test))*100\n",
        "    return accuracy      \n",
        "\n",
        "\n",
        "        "
      ],
      "execution_count": 118,
      "outputs": []
    },
    {
      "cell_type": "code",
      "metadata": {
        "id": "lqzWfKPf1Ds9"
      },
      "source": [
        "knn=Knearestneighbors(5)\n",
        "knn.fit(X_train,y_train)\n",
        "#knn.evaluate(X_test,y_test)\n"
      ],
      "execution_count": 119,
      "outputs": []
    },
    {
      "cell_type": "code",
      "metadata": {
        "id": "CsTpLZQR1Ds_",
        "colab": {
          "base_uri": "https://localhost:8080/"
        },
        "outputId": "3ade3fe3-41ee-474f-bdbc-bc045b734d52"
      },
      "source": [
        "#knn in scikitlean\n",
        "import sklearn\n",
        "from sklearn.neighbors import KNeighborsClassifier\n",
        "\n",
        "label=0\n",
        "\n",
        "KNN=KNeighborsClassifier(5)\n",
        "KNN.fit(X,Y)\n",
        "y=KNN.predict(X_test)\n",
        "for i in range(len(y_pred)):\n",
        "    if (y[i]==y_test[i]):\n",
        "        label=label+1\n",
        "        \n",
        "accuracy=(label/len(y_test))*100\n",
        "\n",
        "print(\"The accuracy of sklearn :\",accuracy)\n"
      ],
      "execution_count": 120,
      "outputs": [
        {
          "output_type": "stream",
          "text": [
            "The accuracy of sklearn : 95.0\n"
          ],
          "name": "stdout"
        },
        {
          "output_type": "stream",
          "text": [
            "/usr/local/lib/python3.7/dist-packages/ipykernel_launcher.py:8: DataConversionWarning: A column-vector y was passed when a 1d array was expected. Please change the shape of y to (n_samples, ), for example using ravel().\n",
            "  \n"
          ],
          "name": "stderr"
        }
      ]
    },
    {
      "cell_type": "code",
      "metadata": {
        "id": "vqtYPH1cSnBe"
      },
      "source": [
        ""
      ],
      "execution_count": 120,
      "outputs": []
    }
  ]
}