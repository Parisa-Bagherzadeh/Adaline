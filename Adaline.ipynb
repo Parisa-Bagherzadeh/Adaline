{
  "nbformat": 4,
  "nbformat_minor": 0,
  "metadata": {
    "colab": {
      "name": "Adaline.ipynb",
      "provenance": [],
      "collapsed_sections": []
    },
    "kernelspec": {
      "name": "python3",
      "display_name": "Python 3"
    },
    "language_info": {
      "name": "python"
    }
  },
  "cells": [
    {
      "cell_type": "code",
      "metadata": {
        "id": "JY8B0QVVjM5v"
      },
      "source": [
        "import numpy as np\n",
        "import matplotlib.pyplot as plt\n",
        "import pandas as pd\n",
        "from numpy.linalg import inv\n",
        "\n",
        "\n"
      ],
      "execution_count": 8,
      "outputs": []
    },
    {
      "cell_type": "code",
      "metadata": {
        "id": "s0rTGGaSj30u"
      },
      "source": [
        "data=pd.read_csv('regressionOutliers.csv')\n",
        "X_train=data['X']\n",
        "Y_train=data['Y']\n",
        "\n"
      ],
      "execution_count": 9,
      "outputs": []
    },
    {
      "cell_type": "code",
      "metadata": {
        "colab": {
          "base_uri": "https://localhost:8080/"
        },
        "id": "hNmxtXKskUzn",
        "outputId": "d360e6c4-0374-42f0-bd50-ba008a8d3718"
      },
      "source": [
        "X_train.head()"
      ],
      "execution_count": 10,
      "outputs": [
        {
          "output_type": "execute_result",
          "data": {
            "text/plain": [
              "0    0.655210\n",
              "1    0.752910\n",
              "2    0.810860\n",
              "3    0.048427\n",
              "4    0.414710\n",
              "Name: X, dtype: float64"
            ]
          },
          "metadata": {
            "tags": []
          },
          "execution_count": 10
        }
      ]
    },
    {
      "cell_type": "code",
      "metadata": {
        "colab": {
          "base_uri": "https://localhost:8080/"
        },
        "id": "52lSc_lhkXLA",
        "outputId": "23dc7f76-a953-4537-ad7a-a59189c18a85"
      },
      "source": [
        "Y_train.head()"
      ],
      "execution_count": 11,
      "outputs": [
        {
          "output_type": "execute_result",
          "data": {
            "text/plain": [
              "0   -5.1815\n",
              "1   -4.6796\n",
              "2   -3.6935\n",
              "3   -1.2416\n",
              "4   -2.1358\n",
              "Name: Y, dtype: float64"
            ]
          },
          "metadata": {
            "tags": []
          },
          "execution_count": 11
        }
      ]
    },
    {
      "cell_type": "code",
      "metadata": {
        "id": "mBFVuI7ZkjBe"
      },
      "source": [
        "X=np.array(X_train)\n",
        "Y=np.array(Y_train)"
      ],
      "execution_count": 12,
      "outputs": []
    },
    {
      "cell_type": "code",
      "metadata": {
        "id": "YEAiYnhKpBJr"
      },
      "source": [
        "X=X.reshape(400,1)\n",
        "#X.shape\n",
        "Y=Y.reshape(400,1)"
      ],
      "execution_count": 13,
      "outputs": []
    },
    {
      "cell_type": "code",
      "metadata": {
        "colab": {
          "base_uri": "https://localhost:8080/"
        },
        "id": "9Cx0k3BkmSjM",
        "outputId": "a6a43ca2-4524-41e8-dc2e-9f986fc6374f"
      },
      "source": [
        "#m=((x.Tx)^-1)*x.Ty\n",
        "#y=m*X\n",
        "#m=Y/X\n",
        "\n",
        "m=np.matmul(inv(np.matmul(X.T,X)),np.matmul(X.T,Y))\n",
        "m"
      ],
      "execution_count": 14,
      "outputs": [
        {
          "output_type": "execute_result",
          "data": {
            "text/plain": [
              "array([[-1.80480221]])"
            ]
          },
          "metadata": {
            "tags": []
          },
          "execution_count": 14
        }
      ]
    },
    {
      "cell_type": "code",
      "metadata": {
        "colab": {
          "base_uri": "https://localhost:8080/",
          "height": 283
        },
        "id": "YAK-QeAlqHhz",
        "outputId": "85bb5a1c-bbe0-496f-a1f0-9e10d5a241b0"
      },
      "source": [
        "Y_pred=np.matmul(X,m)\n",
        "plt.scatter(X,Y)\n",
        "plt.plot(X,Y_pred,c='red',lw=2)"
      ],
      "execution_count": 15,
      "outputs": [
        {
          "output_type": "execute_result",
          "data": {
            "text/plain": [
              "[<matplotlib.lines.Line2D at 0x7f62a10427d0>]"
            ]
          },
          "metadata": {
            "tags": []
          },
          "execution_count": 15
        },
        {
          "output_type": "display_data",
          "data": {
            "image/png": "[encoded data removed]",
            "text/plain": [
              "<Figure size 432x288 with 1 Axes>"
            ]
          },
          "metadata": {
            "tags": [],
            "needs_background": "light"
          }
        }
      ]
    }
  ]
}