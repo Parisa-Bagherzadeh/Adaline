{
  "nbformat": 4,
  "nbformat_minor": 0,
  "metadata": {
    "colab": {
      "name": "Adaline(hair,gender).ipynb",
      "provenance": [],
      "collapsed_sections": []
    },
    "kernelspec": {
      "name": "python3",
      "display_name": "Python 3"
    },
    "language_info": {
      "name": "python"
    }
  },
  "cells": [
    {
      "cell_type": "code",
      "metadata": {
        "id": "HZpHnG6nGfp4"
      },
      "source": [
        "import numpy as np\n",
        "import pandas as pd\n",
        "import matplotlib.pyplot as plt\n",
        "import random\n",
        "import scipy\n",
        "from scipy import stats"
      ],
      "execution_count": 93,
      "outputs": []
    },
    {
      "cell_type": "code",
      "metadata": {
        "colab": {
          "base_uri": "https://localhost:8080/",
          "height": 326
        },
        "id": "3yaiQD4-Ke_I",
        "outputId": "049fdde1-4c39-49e0-89ae-f83c561832b9"
      },
      "source": [
        "x_woman=[]\n",
        "x_man=[]\n",
        "N=50\n",
        "for i in range(N):\n",
        "  x_w=random.randint(20,50)\n",
        "  x_woman.append(x_w)\n",
        "  x_m=random.randint(5,15)\n",
        "  x_man.append(x_m)\n",
        "\n",
        "\n",
        "x_woman=np.array(x_woman)\n",
        "x_man=np.array(x_man)\n",
        "x_woman=x_woman.reshape(N,1)\n",
        "x_man=x_man.reshape(N,1)\n",
        "\n",
        "X=np.concatenate([x_woman,x_man])\n",
        "\n",
        "for i in range(N):\n",
        "  plt.scatter(x_woman[i],50)\n",
        "  plt.scatter(x_man[i],-50)\n",
        "\n",
        "for i in range(5):\n",
        "  m=random.randint(-2,2)*2\n",
        "  y=np.multiply(X,m)\n",
        "  plt.plot(X,y,c='red')\n",
        "plt.xlabel('Hair')\n",
        "plt.ylabel('Gender')\n",
        "plt.suptitle('Random slope')"
      ],
      "execution_count": 94,
      "outputs": [
        {
          "output_type": "execute_result",
          "data": {
            "text/plain": [
              "Text(0.5, 0.98, 'Random slope')"
            ]
          },
          "metadata": {
            "tags": []
          },
          "execution_count": 94
        },
        {
          "output_type": "display_data",
          "data": {
            "image/png": "[encoded data removed]",
            "text/plain": [
              "<Figure size 432x288 with 1 Axes>"
            ]
          },
          "metadata": {
            "tags": [],
            "needs_background": "light"
          }
        }
      ]
    },
    {
      "cell_type": "code",
      "metadata": {
        "id": "7k-___usk-ws"
      },
      "source": [
        "class AdalineRegressor:\n",
        "  def __int__(self):\n",
        "    pass\n",
        "\n",
        "#train\n",
        "  def fit(self,X_train,Y_train):\n",
        "    #w=(X.T*X)^-1 * X.T.Y\n",
        "    self.w=np.matmul(np.linalg.inv(np.matmul(X_train.T,X_train)),np.matmul(X_train.T,Y_train))\n",
        "\n",
        "  def predict(self,X_test):\n",
        "    Y_pred=np.matmul(self.w,X_test)  \n",
        "    return Y_pred"
      ],
      "execution_count": 95,
      "outputs": []
    },
    {
      "cell_type": "code",
      "metadata": {
        "id": "1UxzlnleKdBo",
        "colab": {
          "base_uri": "https://localhost:8080/"
        },
        "outputId": "1aaa479c-eabf-4c83-91ce-1c8c38d14219"
      },
      "source": [
        "model=AdalineRegressor()\n",
        "model.fit(x_woman,x_man)\n",
        "#w is a numpy array\n",
        "print(\"Slope of Adaline\",model.w)\n"
      ],
      "execution_count": 96,
      "outputs": [
        {
          "output_type": "stream",
          "text": [
            "Slope of Adaline [[0.25312043]]\n"
          ],
          "name": "stdout"
        }
      ]
    },
    {
      "cell_type": "code",
      "metadata": {
        "id": "Vv0Uwp76tjYu"
      },
      "source": [
        "Y_pred=np.matmul(X,model.w)"
      ],
      "execution_count": 97,
      "outputs": []
    },
    {
      "cell_type": "code",
      "metadata": {
        "colab": {
          "base_uri": "https://localhost:8080/",
          "height": 297
        },
        "id": "SL4A-tb6tpR0",
        "outputId": "c6dc386e-bf24-41ae-a10a-0c6c510cf5fa"
      },
      "source": [
        "#slope adaline\n",
        "for i in range(N):\n",
        "  plt.scatter(x_woman[i],50)\n",
        "  plt.scatter(x_man[i],-50)\n",
        "\n",
        "plt.xlabel('Hair')\n",
        "plt.ylabel('Gender')  \n",
        "\n",
        "plt.plot(X,Y_pred,c='red')"
      ],
      "execution_count": 98,
      "outputs": [
        {
          "output_type": "execute_result",
          "data": {
            "text/plain": [
              "[<matplotlib.lines.Line2D at 0x7efe45972dd0>]"
            ]
          },
          "metadata": {
            "tags": []
          },
          "execution_count": 98
        },
        {
          "output_type": "display_data",
          "data": {
            "image/png": "[encoded data removed]",
            "text/plain": [
              "<Figure size 432x288 with 1 Axes>"
            ]
          },
          "metadata": {
            "tags": [],
            "needs_background": "light"
          }
        }
      ]
    },
    {
      "cell_type": "code",
      "metadata": {
        "colab": {
          "base_uri": "https://localhost:8080/",
          "height": 297
        },
        "id": "U6AlmC39t_5o",
        "outputId": "d7594f45-8491-4f2c-d1c4-597b7486f0ab"
      },
      "source": [
        "#slope lingress\n",
        "for i in range(N):\n",
        "  plt.scatter(x_woman[i],50)\n",
        "  plt.scatter(x_man[i],-50)\n",
        "slope, intercept, r_value, p_value, std_err = scipy.stats.linregress(x_woman[:,0], x_man[:,0])\n",
        "plt.plot(X, intercept + slope*X, 'g', lw=2)\n",
        "plt.xlabel('Hair')\n",
        "plt.ylabel('Gender')\n",
        "print(\"Slope of lingress\",slope)"
      ],
      "execution_count": 99,
      "outputs": [
        {
          "output_type": "stream",
          "text": [
            "Slope of lingress 0.06561491957018649\n"
          ],
          "name": "stdout"
        },
        {
          "output_type": "display_data",
          "data": {
            "image/png": "[encoded data removed]",
            "text/plain": [
              "<Figure size 432x288 with 1 Axes>"
            ]
          },
          "metadata": {
            "tags": [],
            "needs_background": "light"
          }
        }
      ]
    }
  ]
}