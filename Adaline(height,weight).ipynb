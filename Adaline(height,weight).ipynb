{
  "nbformat": 4,
  "nbformat_minor": 0,
  "metadata": {
    "colab": {
      "name": "Adaline(height,weight).ipynb",
      "provenance": []
    },
    "kernelspec": {
      "name": "python3",
      "display_name": "Python 3"
    },
    "language_info": {
      "name": "python"
    }
  },
  "cells": [
    {
      "cell_type": "code",
      "metadata": {
        "id": "SnEfkmUYEHvh"
      },
      "source": [
        "import random\n",
        "import numpy as np\n",
        "import pandas as pd\n",
        "import matplotlib.pyplot as plt\n",
        "from scipy import stats\n",
        "import scipy"
      ],
      "execution_count": 105,
      "outputs": []
    },
    {
      "cell_type": "code",
      "metadata": {
        "id": "WKSxaLo6Larf"
      },
      "source": [
        "X=[]\n",
        "Y=[]\n",
        "N=100\n",
        "\n",
        "for i in range(N):\n",
        "  x=random.randint(40,190)\n",
        "  X.append(x)\n",
        "\n",
        "  y=x+random.randint(-10,5)\n",
        "  Y.append(y)\n",
        "\n",
        "\n",
        "\n",
        "X=np.array(X)\n",
        "Y=np.array(Y)\n",
        "X=X.reshape(N,1)\n",
        "Y=Y.reshape(N,1)\n",
        "#print(X.shape)\n",
        "\n"
      ],
      "execution_count": 106,
      "outputs": []
    },
    {
      "cell_type": "code",
      "metadata": {
        "colab": {
          "base_uri": "https://localhost:8080/",
          "height": 308
        },
        "id": "krQ0Xuq6pHir",
        "outputId": "38d1518d-ca9c-4c03-c75e-01eeeaf7c87c"
      },
      "source": [
        "plt.scatter(X,Y)  \n",
        "plt.xlabel('Height')\n",
        "plt.ylabel('Weight')\n",
        "y=0\n",
        "m=0\n",
        "#random slope\n",
        "for i in range(5):\n",
        "  m=random.random()*1.5\n",
        "  y=np. multiply(X,m)\n",
        "  plt.plot(X,y,c='red')\n",
        "  plt.suptitle('Random slope')"
      ],
      "execution_count": 107,
      "outputs": [
        {
          "output_type": "display_data",
          "data": {
            "image/png": "[encoded data removed]",
            "text/plain": [
              "<Figure size 432x288 with 1 Axes>"
            ]
          },
          "metadata": {
            "tags": [],
            "needs_background": "light"
          }
        }
      ]
    },
    {
      "cell_type": "code",
      "metadata": {
        "id": "tREjdHBmpEGF"
      },
      "source": [
        ""
      ],
      "execution_count": 107,
      "outputs": []
    },
    {
      "cell_type": "code",
      "metadata": {
        "id": "m-EfOfh8pDI9"
      },
      "source": [
        ""
      ],
      "execution_count": 107,
      "outputs": []
    },
    {
      "cell_type": "code",
      "metadata": {
        "id": "LPc1aHqabvZ4"
      },
      "source": [
        ""
      ],
      "execution_count": 107,
      "outputs": []
    },
    {
      "cell_type": "code",
      "metadata": {
        "id": "U-UcVeDjN3lO"
      },
      "source": [
        "class AdalineRegressor:\n",
        "  def __int__(self):\n",
        "    pass\n",
        "\n",
        "#train\n",
        "  def fit(self,X_train,Y_train):\n",
        "    #w=(X.T*X)^-1 * X.T.Y\n",
        "    self.w=np.matmul(np.linalg.inv(np.matmul(X_train.T,X_train)),np.matmul(X_train.T,Y_train))\n",
        "\n",
        "  def predict(self,X_test):\n",
        "    Y_pred=np.matmul(self.w,X_test)  \n",
        "    return Y_pred\n",
        "\n",
        "\n"
      ],
      "execution_count": 108,
      "outputs": []
    },
    {
      "cell_type": "code",
      "metadata": {
        "id": "VdN0VKrPmhNb"
      },
      "source": [
        ""
      ],
      "execution_count": 108,
      "outputs": []
    },
    {
      "cell_type": "code",
      "metadata": {
        "colab": {
          "base_uri": "https://localhost:8080/"
        },
        "id": "lSBNvs6pa032",
        "outputId": "559962fb-52d2-498b-8498-9c780b6de3d9"
      },
      "source": [
        "model=AdalineRegressor()\n",
        "model.fit(X,Y)\n",
        "#w is a numpy array\n",
        "print(\"Slope of Adaline\",model.w)"
      ],
      "execution_count": 126,
      "outputs": [
        {
          "output_type": "stream",
          "text": [
            "Slope of Adaline [[0.97844453]]\n"
          ],
          "name": "stdout"
        }
      ]
    },
    {
      "cell_type": "code",
      "metadata": {
        "id": "0gyiY-BHcVH0"
      },
      "source": [
        "Y_pred=np.matmul(X,model.w)"
      ],
      "execution_count": 110,
      "outputs": []
    },
    {
      "cell_type": "code",
      "metadata": {
        "colab": {
          "base_uri": "https://localhost:8080/",
          "height": 286
        },
        "id": "WrlQKu2aeiHN",
        "outputId": "bd3585d6-d42b-4058-e745-4b2fb4000e07"
      },
      "source": [
        "#slope adaline\n",
        "plt.scatter(X,Y,c='blue')\n",
        "plt.plot(X,Y_pred,c='red')\n"
      ],
      "execution_count": 124,
      "outputs": [
        {
          "output_type": "execute_result",
          "data": {
            "text/plain": [
              "[<matplotlib.lines.Line2D at 0x7f3ffdc61690>]"
            ]
          },
          "metadata": {
            "tags": []
          },
          "execution_count": 124
        },
        {
          "output_type": "display_data",
          "data": {
            "image/png": "[encoded data removed]",
            "text/plain": [
              "<Figure size 432x288 with 1 Axes>"
            ]
          },
          "metadata": {
            "tags": [],
            "needs_background": "light"
          }
        }
      ]
    },
    {
      "cell_type": "code",
      "metadata": {
        "colab": {
          "base_uri": "https://localhost:8080/",
          "height": 286
        },
        "id": "fmZ1CTBG7JLs",
        "outputId": "6295d753-ee9b-42d7-c3d8-ab0efceb7105"
      },
      "source": [
        "#slope lingress\n",
        "plt.scatter(X,Y,c='blue')\n",
        "slope, intercept, r_value, p_value, std_err = scipy.stats.linregress(X[:,0], Y[:,0])\n",
        "plt.plot(X, intercept + slope*X, 'g', lw=2)\n",
        "print(\"Slope of lingress\",slope)"
      ],
      "execution_count": 125,
      "outputs": [
        {
          "output_type": "stream",
          "text": [
            "Slope of lingress 0.9936273316759551\n"
          ],
          "name": "stdout"
        },
        {
          "output_type": "display_data",
          "data": {
            "image/png": "[encoded data removed]",
            "text/plain": [
              "<Figure size 432x288 with 1 Axes>"
            ]
          },
          "metadata": {
            "tags": [],
            "needs_background": "light"
          }
        }
      ]
    },
    {
      "cell_type": "code",
      "metadata": {
        "id": "rnVO3HElmimF"
      },
      "source": [
        ""
      ],
      "execution_count": 111,
      "outputs": []
    },
    {
      "cell_type": "code",
      "metadata": {
        "id": "tyV2hQ4Kwqvo"
      },
      "source": [
        ""
      ],
      "execution_count": 111,
      "outputs": []
    }
  ]
}