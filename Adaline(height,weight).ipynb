{
  "nbformat": 4,
  "nbformat_minor": 0,
  "metadata": {
    "colab": {
      "name": "Adaline(height,weight).ipynb",
      "provenance": [],
      "collapsed_sections": []
    },
    "kernelspec": {
      "name": "python3",
      "display_name": "Python 3"
    },
    "language_info": {
      "name": "python"
    }
  },
  "cells": [
    {
      "cell_type": "code",
      "metadata": {
        "id": "yZpTnhcvAdMC"
      },
      "source": [
        "import numpy as np\n",
        "import matplotlib.pyplot as plt\n",
        "import pandas as pd\n",
        "from numpy.linalg import inv\n",
        "from random import randrange\n",
        "from random import seed\n"
      ],
      "execution_count": 178,
      "outputs": []
    },
    {
      "cell_type": "code",
      "metadata": {
        "id": "-k7LfDDGAoKk"
      },
      "source": [
        "\n",
        "np.random.seed(0)\n",
        "mu = 160 #mean\n",
        "sigma = 20 #stddev\n",
        "sample = 100\n",
        "height = np.random.normal(mu, sigma, sample)\n",
        "weight = (height-100) * np.random.uniform(0.75, 1.25, 100)"
      ],
      "execution_count": 179,
      "outputs": []
    },
    {
      "cell_type": "code",
      "metadata": {
        "id": "A_b5lB8vd9fG"
      },
      "source": [
        "gym = pd.DataFrame({'height': height, 'weight': weight})"
      ],
      "execution_count": 180,
      "outputs": []
    },
    {
      "cell_type": "code",
      "metadata": {
        "id": "Obh_urgUeEZF"
      },
      "source": [
        "x = gym.weight\n",
        "y = gym.height\n",
        "\n"
      ],
      "execution_count": 181,
      "outputs": []
    },
    {
      "cell_type": "code",
      "metadata": {
        "colab": {
          "base_uri": "https://localhost:8080/"
        },
        "id": "cUS2pNzzri7o",
        "outputId": "797dcda6-70f1-41a7-9ded-fd0c21faaa58"
      },
      "source": [
        "X=np.array(height)\n",
        "Y=np.array(weight)\n",
        "#x.shape\n",
        "X.reshape(100,1)\n",
        "Y.reshape(100,1)\n"
      ],
      "execution_count": 182,
      "outputs": [
        {
          "output_type": "execute_result",
          "data": {
            "text/plain": [
              "array([[ 91.65346157],\n",
              "       [ 71.62068071],\n",
              "       [ 60.44471683],\n",
              "       [ 94.41861205],\n",
              "       [105.14769963],\n",
              "       [ 36.20829573],\n",
              "       [ 83.66348214],\n",
              "       [ 54.94373057],\n",
              "       [ 47.37610438],\n",
              "       [ 61.33219007],\n",
              "       [ 65.0805987 ],\n",
              "       [ 93.13319147],\n",
              "       [ 78.01615515],\n",
              "       [ 67.21593205],\n",
              "       [ 74.11549325],\n",
              "       [ 64.38720054],\n",
              "       [107.70269904],\n",
              "       [ 52.19539859],\n",
              "       [ 64.13651559],\n",
              "       [ 51.32838519],\n",
              "       [ 10.308922  ],\n",
              "       [ 80.52168311],\n",
              "       [ 61.8397471 ],\n",
              "       [ 54.62792478],\n",
              "       [116.68508327],\n",
              "       [ 38.62303707],\n",
              "       [ 50.23821223],\n",
              "       [ 66.61103219],\n",
              "       [ 75.35713418],\n",
              "       [ 94.55194692],\n",
              "       [ 51.23066675],\n",
              "       [ 79.31953396],\n",
              "       [ 48.73551989],\n",
              "       [ 21.0883478 ],\n",
              "       [ 50.58017652],\n",
              "       [ 49.52838628],\n",
              "       [ 92.95762461],\n",
              "       [ 82.09528403],\n",
              "       [ 58.05505075],\n",
              "       [ 63.83783092],\n",
              "       [ 48.30849101],\n",
              "       [ 37.22127025],\n",
              "       [ 19.55749574],\n",
              "       [ 92.08333637],\n",
              "       [ 55.53452132],\n",
              "       [ 42.82591028],\n",
              "       [ 35.31164536],\n",
              "       [ 58.71496761],\n",
              "       [ 23.56368842],\n",
              "       [ 42.32514631],\n",
              "       [ 48.27163515],\n",
              "       [ 58.38764832],\n",
              "       [ 45.93439923],\n",
              "       [ 44.1757296 ],\n",
              "       [ 65.51117896],\n",
              "       [ 52.51652223],\n",
              "       [ 51.04813301],\n",
              "       [ 70.06122803],\n",
              "       [ 49.14053778],\n",
              "       [ 45.83273196],\n",
              "       [ 56.65729359],\n",
              "       [ 55.81814725],\n",
              "       [ 44.51631164],\n",
              "       [ 26.61954696],\n",
              "       [ 70.86048037],\n",
              "       [ 47.0783003 ],\n",
              "       [ 26.00186349],\n",
              "       [ 59.20816594],\n",
              "       [ 35.28698861],\n",
              "       [ 74.60091061],\n",
              "       [ 83.51487733],\n",
              "       [ 62.28111597],\n",
              "       [ 71.50461294],\n",
              "       [ 30.96744764],\n",
              "       [ 53.0094749 ],\n",
              "       [ 44.78541851],\n",
              "       [ 38.57680957],\n",
              "       [ 53.17677774],\n",
              "       [ 50.48237178],\n",
              "       [ 51.33146548],\n",
              "       [ 27.97557008],\n",
              "       [ 61.13568874],\n",
              "       [ 75.53039677],\n",
              "       [ 28.59736091],\n",
              "       [ 91.40681112],\n",
              "       [117.33837042],\n",
              "       [104.06577519],\n",
              "       [ 48.41778545],\n",
              "       [ 41.73112953],\n",
              "       [ 71.49305455],\n",
              "       [ 39.48861571],\n",
              "       [ 95.35879814],\n",
              "       [ 58.39115485],\n",
              "       [ 74.89856045],\n",
              "       [ 70.09157387],\n",
              "       [ 86.40201658],\n",
              "       [ 64.09299884],\n",
              "       [113.55198764],\n",
              "       [ 55.45710036],\n",
              "       [ 78.17930886]])"
            ]
          },
          "metadata": {
            "tags": []
          },
          "execution_count": 182
        }
      ]
    },
    {
      "cell_type": "code",
      "metadata": {
        "colab": {
          "base_uri": "https://localhost:8080/",
          "height": 283
        },
        "id": "ved2un8gxf8S",
        "outputId": "c65f5b77-faf6-43b3-9612-d02be2b2099d"
      },
      "source": [
        "plt.scatter(x,y)"
      ],
      "execution_count": 183,
      "outputs": [
        {
          "output_type": "execute_result",
          "data": {
            "text/plain": [
              "<matplotlib.collections.PathCollection at 0x7f761b7368d0>"
            ]
          },
          "metadata": {
            "tags": []
          },
          "execution_count": 183
        },
        {
          "output_type": "display_data",
          "data": {
            "image/png": "[encoded data removed]",
            "text/plain": [
              "<Figure size 432x288 with 1 Axes>"
            ]
          },
          "metadata": {
            "tags": [],
            "needs_background": "light"
          }
        }
      ]
    },
    {
      "cell_type": "code",
      "metadata": {
        "colab": {
          "base_uri": "https://localhost:8080/",
          "height": 380
        },
        "id": "KgSX9qomsFyQ",
        "outputId": "7f218b71-34bc-43d9-c9b0-9703694e6bb0"
      },
      "source": [
        "m=np.matmul(inv(np.matmul(X.T,X)),np.matmul(X.T,Y))\n",
        "#m=np.array(-1.5)"
      ],
      "execution_count": 184,
      "outputs": [
        {
          "output_type": "error",
          "ename": "LinAlgError",
          "evalue": "ignored",
          "traceback": [
            "\u001b[0;31m---------------------------------------------------------------------------\u001b[0m",
            "\u001b[0;31mLinAlgError\u001b[0m                               Traceback (most recent call last)",
            "\u001b[0;32m<ipython-input-184-b8950e1d37f4>\u001b[0m in \u001b[0;36m<module>\u001b[0;34m()\u001b[0m\n\u001b[0;32m----> 1\u001b[0;31m \u001b[0mm\u001b[0m\u001b[0;34m=\u001b[0m\u001b[0mnp\u001b[0m\u001b[0;34m.\u001b[0m\u001b[0mmatmul\u001b[0m\u001b[0;34m(\u001b[0m\u001b[0minv\u001b[0m\u001b[0;34m(\u001b[0m\u001b[0mnp\u001b[0m\u001b[0;34m.\u001b[0m\u001b[0mmatmul\u001b[0m\u001b[0;34m(\u001b[0m\u001b[0mX\u001b[0m\u001b[0;34m.\u001b[0m\u001b[0mT\u001b[0m\u001b[0;34m,\u001b[0m\u001b[0mX\u001b[0m\u001b[0;34m)\u001b[0m\u001b[0;34m)\u001b[0m\u001b[0;34m,\u001b[0m\u001b[0mnp\u001b[0m\u001b[0;34m.\u001b[0m\u001b[0mmatmul\u001b[0m\u001b[0;34m(\u001b[0m\u001b[0mX\u001b[0m\u001b[0;34m.\u001b[0m\u001b[0mT\u001b[0m\u001b[0;34m,\u001b[0m\u001b[0mY\u001b[0m\u001b[0;34m)\u001b[0m\u001b[0;34m)\u001b[0m\u001b[0;34m\u001b[0m\u001b[0;34m\u001b[0m\u001b[0m\n\u001b[0m\u001b[1;32m      2\u001b[0m \u001b[0;31m#m=np.array(-1.5)\u001b[0m\u001b[0;34m\u001b[0m\u001b[0;34m\u001b[0m\u001b[0;34m\u001b[0m\u001b[0m\n",
            "\u001b[0;32m<__array_function__ internals>\u001b[0m in \u001b[0;36minv\u001b[0;34m(*args, **kwargs)\u001b[0m\n",
            "\u001b[0;32m/usr/local/lib/python3.7/dist-packages/numpy/linalg/linalg.py\u001b[0m in \u001b[0;36minv\u001b[0;34m(a)\u001b[0m\n\u001b[1;32m    538\u001b[0m     \"\"\"\n\u001b[1;32m    539\u001b[0m     \u001b[0ma\u001b[0m\u001b[0;34m,\u001b[0m \u001b[0mwrap\u001b[0m \u001b[0;34m=\u001b[0m \u001b[0m_makearray\u001b[0m\u001b[0;34m(\u001b[0m\u001b[0ma\u001b[0m\u001b[0;34m)\u001b[0m\u001b[0;34m\u001b[0m\u001b[0;34m\u001b[0m\u001b[0m\n\u001b[0;32m--> 540\u001b[0;31m     \u001b[0m_assert_stacked_2d\u001b[0m\u001b[0;34m(\u001b[0m\u001b[0ma\u001b[0m\u001b[0;34m)\u001b[0m\u001b[0;34m\u001b[0m\u001b[0;34m\u001b[0m\u001b[0m\n\u001b[0m\u001b[1;32m    541\u001b[0m     \u001b[0m_assert_stacked_square\u001b[0m\u001b[0;34m(\u001b[0m\u001b[0ma\u001b[0m\u001b[0;34m)\u001b[0m\u001b[0;34m\u001b[0m\u001b[0;34m\u001b[0m\u001b[0m\n\u001b[1;32m    542\u001b[0m     \u001b[0mt\u001b[0m\u001b[0;34m,\u001b[0m \u001b[0mresult_t\u001b[0m \u001b[0;34m=\u001b[0m \u001b[0m_commonType\u001b[0m\u001b[0;34m(\u001b[0m\u001b[0ma\u001b[0m\u001b[0;34m)\u001b[0m\u001b[0;34m\u001b[0m\u001b[0;34m\u001b[0m\u001b[0m\n",
            "\u001b[0;32m/usr/local/lib/python3.7/dist-packages/numpy/linalg/linalg.py\u001b[0m in \u001b[0;36m_assert_stacked_2d\u001b[0;34m(*arrays)\u001b[0m\n\u001b[1;32m    196\u001b[0m         \u001b[0;32mif\u001b[0m \u001b[0ma\u001b[0m\u001b[0;34m.\u001b[0m\u001b[0mndim\u001b[0m \u001b[0;34m<\u001b[0m \u001b[0;36m2\u001b[0m\u001b[0;34m:\u001b[0m\u001b[0;34m\u001b[0m\u001b[0;34m\u001b[0m\u001b[0m\n\u001b[1;32m    197\u001b[0m             raise LinAlgError('%d-dimensional array given. Array must be '\n\u001b[0;32m--> 198\u001b[0;31m                     'at least two-dimensional' % a.ndim)\n\u001b[0m\u001b[1;32m    199\u001b[0m \u001b[0;34m\u001b[0m\u001b[0m\n\u001b[1;32m    200\u001b[0m \u001b[0;32mdef\u001b[0m \u001b[0m_assert_stacked_square\u001b[0m\u001b[0;34m(\u001b[0m\u001b[0;34m*\u001b[0m\u001b[0marrays\u001b[0m\u001b[0;34m)\u001b[0m\u001b[0;34m:\u001b[0m\u001b[0;34m\u001b[0m\u001b[0;34m\u001b[0m\u001b[0m\n",
            "\u001b[0;31mLinAlgError\u001b[0m: 0-dimensional array given. Array must be at least two-dimensional"
          ]
        }
      ]
    },
    {
      "cell_type": "code",
      "metadata": {
        "id": "oDWjdtjvt1dO"
      },
      "source": [
        "y_pred=np.matmul(X,m)\n",
        "\n",
        "plt.plot(X,y_pred,c='red',lw=2)"
      ],
      "execution_count": null,
      "outputs": []
    },
    {
      "cell_type": "code",
      "metadata": {
        "id": "zNMcJxe7dqPy"
      },
      "source": [
        "\n"
      ],
      "execution_count": null,
      "outputs": []
    },
    {
      "cell_type": "code",
      "metadata": {
        "id": "Ik2z203MW46E"
      },
      "source": [
        ""
      ],
      "execution_count": null,
      "outputs": []
    },
    {
      "cell_type": "code",
      "metadata": {
        "id": "MZFHxTFtVehE"
      },
      "source": [
        ""
      ],
      "execution_count": null,
      "outputs": []
    },
    {
      "cell_type": "code",
      "metadata": {
        "id": "6hYkrP_0BB1N"
      },
      "source": [
        ""
      ],
      "execution_count": null,
      "outputs": []
    }
  ]
}