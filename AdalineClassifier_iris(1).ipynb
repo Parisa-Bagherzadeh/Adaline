{
  "nbformat": 4,
  "nbformat_minor": 0,
  "metadata": {
    "colab": {
      "name": "AdalineClassifier_iris.ipynb",
      "provenance": [],
      "collapsed_sections": []
    },
    "kernelspec": {
      "name": "python3",
      "display_name": "Python 3"
    },
    "language_info": {
      "name": "python"
    }
  },
  "cells": [
    {
      "cell_type": "code",
      "metadata": {
        "id": "ZOSByORJFnsZ"
      },
      "source": [
        "import numpy as np\n",
        "import matplotlib.pyplot as plt\n",
        "import pandas as pd\n",
        "from sklearn.model_selection import train_test_split\n",
        "from sklearn.datasets import load_iris"
      ],
      "execution_count": 20,
      "outputs": []
    },
    {
      "cell_type": "code",
      "metadata": {
        "colab": {
          "base_uri": "https://localhost:8080/"
        },
        "id": "Jg9_xDjJFzac",
        "outputId": "5e895b34-1106-4719-ea3c-b065509cdf82"
      },
      "source": [
        "iris=load_iris()\n",
        "x = iris.data[:, :4]\n",
        "y=iris.target\n",
        "Y=[]\n",
        "X=[]\n",
        "for i in range(len(y)):\n",
        "  if(y[i]==1 or y[i]==2):\n",
        "    Y.append(y[i])\n",
        "    X.append(x[i])\n",
        "\n",
        "X=np.array(X)\n",
        "Y_count=np.bincount(Y)\n",
        "Y=np.array(Y)\n",
        "Y=Y.reshape(100,1)\n",
        "\n",
        "print(X.shape)\n",
        "print(Y.shape)"
      ],
      "execution_count": 21,
      "outputs": [
        {
          "output_type": "stream",
          "text": [
            "(100, 4)\n",
            "(100, 1)\n"
          ],
          "name": "stdout"
        }
      ]
    },
    {
      "cell_type": "code",
      "metadata": {
        "id": "3AaGUmgwGDPV"
      },
      "source": [
        "X_train,X_test,y_train,y_test=train_test_split(X,Y,test_size=0.2)"
      ],
      "execution_count": 22,
      "outputs": []
    },
    {
      "cell_type": "code",
      "metadata": {
        "id": "P-55_BJlGQgc"
      },
      "source": [
        ""
      ],
      "execution_count": 22,
      "outputs": []
    },
    {
      "cell_type": "code",
      "metadata": {
        "id": "Dw31ymaGGJeZ"
      },
      "source": [
        "class KnearestNeighbors:\n",
        "   \n",
        "    def __init__(self,k):\n",
        "        self.k=k\n",
        "        \n",
        "    #train    \n",
        "    def fit(self,X_train,y_train):\n",
        "        \n",
        "        self.X_train=X_train\n",
        "        self.y_train=y_train\n",
        "        \n",
        "        #to know the count of classes\n",
        "        self.number_of_classes=len(np.unique(y_train))\n",
        "        \n",
        "    #test    \n",
        "    \n",
        "    def nearNeighbors(self,x_test):\n",
        "        \n",
        "    \n",
        "        distance=np.sqrt(np.sum((x_test-self.X_train)**2,axis=1))\n",
        "        near_neighbors=np.argsort(distance)[0:self.k]\n",
        "        return near_neighbors\n",
        "        \n",
        "    def predict(self,x_test):\n",
        "        \n",
        "        near_neighbors=self.nearNeighbors(x_test)\n",
        "        y_pred=np.argmax(np.bincount(self.y_train[near_neighbors]))\n",
        "        \n",
        "        #0=banana\n",
        "        #1=apple\n",
        "        return y_pred\n",
        "    \n",
        "    def evaluate(self,X_test,y_test):\n",
        "        num_of_correct_pred=0\n",
        "        self.X_test=X_test\n",
        "        self.y_test=y_test\n",
        "        y=[]\n",
        "        \n",
        "        for i in range(len(X_test)):\n",
        "            y.append(self.predict(X_test[i]))\n",
        "\n",
        "        for i in range(len(y)):\n",
        "            if(y_test[i]==y[i]):\n",
        "                num_of_correct_pred=num_of_correct_pred+1\n",
        "        return accuracy"
      ],
      "execution_count": 23,
      "outputs": []
    },
    {
      "cell_type": "code",
      "metadata": {
        "id": "s-ZlWhowItFn"
      },
      "source": [
        "class KNearestNeighbore():\n",
        "    def __init__(self, k):\n",
        "        self.k = k\n",
        "    \n",
        "    \n",
        "    def fit(self, X_train, y_train):\n",
        "        self.X_train = X_train\n",
        "        self.y_train = y_train\n",
        "        self.number_classes = len(np.unique(y_train))\n",
        "    \n",
        "    def nearNeighbors(self, x_test):\n",
        "        distance = np.sqrt(np.sum((x_test- self.X_train)**2, axis = 1))\n",
        "        near_neighbors = np.argsort(distance)[:self.k]\n",
        "        \n",
        "        return near_neighbors\n",
        "    \n",
        "    def predict(self, x_test):\n",
        "        near_neighbors = self.nearNeighbors(x_test)\n",
        "        predict_label = np.argmax(np.bincount(self.y_train[near_neighbors]))\n",
        "            \n",
        "        return predict_label\n",
        "    \n",
        "    def evaluate(self, X_test, y_test):\n",
        "        self.X_test = X_test\n",
        "        self.Y_test = y_test\n",
        "        y_pred = []     \n",
        "        \n",
        "        for i in range(len(X_test)):\n",
        "            y_pred.append(self.predict(X_test[i]))\n",
        "            \n",
        "        true_label = np.count_nonzero(y_pred == y_test)\n",
        "        accuracy = (true_label / len(y_pred))*100\n",
        "        \n",
        "        return accuracy"
      ],
      "execution_count": 24,
      "outputs": []
    },
    {
      "cell_type": "code",
      "metadata": {
        "colab": {
          "base_uri": "https://localhost:8080/",
          "height": 435
        },
        "id": "dhfwZIWCGR5U",
        "outputId": "15a30e8d-ed53-4d15-b046-b957ed706079"
      },
      "source": [
        "knn=KNearestNeighbore(5)\n",
        "#print(X_test)\n",
        "knn.fit(X_train,y_train)\n",
        "accuracy=knn.evaluate(X_test,y_test)\n",
        "\n",
        "#print(\"The accuracy of the model:\",accuracy)"
      ],
      "execution_count": 25,
      "outputs": [
        {
          "output_type": "error",
          "ename": "ValueError",
          "evalue": "ignored",
          "traceback": [
            "\u001b[0;31m---------------------------------------------------------------------------\u001b[0m",
            "\u001b[0;31mValueError\u001b[0m                                Traceback (most recent call last)",
            "\u001b[0;32m<ipython-input-25-d74847184b3f>\u001b[0m in \u001b[0;36m<module>\u001b[0;34m()\u001b[0m\n\u001b[1;32m      2\u001b[0m \u001b[0;31m#print(X_test)\u001b[0m\u001b[0;34m\u001b[0m\u001b[0;34m\u001b[0m\u001b[0;34m\u001b[0m\u001b[0m\n\u001b[1;32m      3\u001b[0m \u001b[0mknn\u001b[0m\u001b[0;34m.\u001b[0m\u001b[0mfit\u001b[0m\u001b[0;34m(\u001b[0m\u001b[0mX_train\u001b[0m\u001b[0;34m,\u001b[0m\u001b[0my_train\u001b[0m\u001b[0;34m)\u001b[0m\u001b[0;34m\u001b[0m\u001b[0;34m\u001b[0m\u001b[0m\n\u001b[0;32m----> 4\u001b[0;31m \u001b[0maccuracy\u001b[0m\u001b[0;34m=\u001b[0m\u001b[0mknn\u001b[0m\u001b[0;34m.\u001b[0m\u001b[0mevaluate\u001b[0m\u001b[0;34m(\u001b[0m\u001b[0mX_test\u001b[0m\u001b[0;34m,\u001b[0m\u001b[0my_test\u001b[0m\u001b[0;34m)\u001b[0m\u001b[0;34m\u001b[0m\u001b[0;34m\u001b[0m\u001b[0m\n\u001b[0m\u001b[1;32m      5\u001b[0m \u001b[0;34m\u001b[0m\u001b[0m\n\u001b[1;32m      6\u001b[0m \u001b[0;31m#print(\"The accuracy of the model:\",accuracy)\u001b[0m\u001b[0;34m\u001b[0m\u001b[0;34m\u001b[0m\u001b[0;34m\u001b[0m\u001b[0m\n",
            "\u001b[0;32m<ipython-input-24-405ffd8faea3>\u001b[0m in \u001b[0;36mevaluate\u001b[0;34m(self, X_test, y_test)\u001b[0m\n\u001b[1;32m     27\u001b[0m \u001b[0;34m\u001b[0m\u001b[0m\n\u001b[1;32m     28\u001b[0m         \u001b[0;32mfor\u001b[0m \u001b[0mi\u001b[0m \u001b[0;32min\u001b[0m \u001b[0mrange\u001b[0m\u001b[0;34m(\u001b[0m\u001b[0mlen\u001b[0m\u001b[0;34m(\u001b[0m\u001b[0mX_test\u001b[0m\u001b[0;34m)\u001b[0m\u001b[0;34m)\u001b[0m\u001b[0;34m:\u001b[0m\u001b[0;34m\u001b[0m\u001b[0;34m\u001b[0m\u001b[0m\n\u001b[0;32m---> 29\u001b[0;31m             \u001b[0my_pred\u001b[0m\u001b[0;34m.\u001b[0m\u001b[0mappend\u001b[0m\u001b[0;34m(\u001b[0m\u001b[0mself\u001b[0m\u001b[0;34m.\u001b[0m\u001b[0mpredict\u001b[0m\u001b[0;34m(\u001b[0m\u001b[0mX_test\u001b[0m\u001b[0;34m[\u001b[0m\u001b[0mi\u001b[0m\u001b[0;34m]\u001b[0m\u001b[0;34m)\u001b[0m\u001b[0;34m)\u001b[0m\u001b[0;34m\u001b[0m\u001b[0;34m\u001b[0m\u001b[0m\n\u001b[0m\u001b[1;32m     30\u001b[0m \u001b[0;34m\u001b[0m\u001b[0m\n\u001b[1;32m     31\u001b[0m         \u001b[0mtrue_label\u001b[0m \u001b[0;34m=\u001b[0m \u001b[0mnp\u001b[0m\u001b[0;34m.\u001b[0m\u001b[0mcount_nonzero\u001b[0m\u001b[0;34m(\u001b[0m\u001b[0my_pred\u001b[0m \u001b[0;34m==\u001b[0m \u001b[0my_test\u001b[0m\u001b[0;34m)\u001b[0m\u001b[0;34m\u001b[0m\u001b[0;34m\u001b[0m\u001b[0m\n",
            "\u001b[0;32m<ipython-input-24-405ffd8faea3>\u001b[0m in \u001b[0;36mpredict\u001b[0;34m(self, x_test)\u001b[0m\n\u001b[1;32m     17\u001b[0m     \u001b[0;32mdef\u001b[0m \u001b[0mpredict\u001b[0m\u001b[0;34m(\u001b[0m\u001b[0mself\u001b[0m\u001b[0;34m,\u001b[0m \u001b[0mx_test\u001b[0m\u001b[0;34m)\u001b[0m\u001b[0;34m:\u001b[0m\u001b[0;34m\u001b[0m\u001b[0;34m\u001b[0m\u001b[0m\n\u001b[1;32m     18\u001b[0m         \u001b[0mnear_neighbors\u001b[0m \u001b[0;34m=\u001b[0m \u001b[0mself\u001b[0m\u001b[0;34m.\u001b[0m\u001b[0mnearNeighbors\u001b[0m\u001b[0;34m(\u001b[0m\u001b[0mx_test\u001b[0m\u001b[0;34m)\u001b[0m\u001b[0;34m\u001b[0m\u001b[0;34m\u001b[0m\u001b[0m\n\u001b[0;32m---> 19\u001b[0;31m         \u001b[0mpredict_label\u001b[0m \u001b[0;34m=\u001b[0m \u001b[0mnp\u001b[0m\u001b[0;34m.\u001b[0m\u001b[0margmax\u001b[0m\u001b[0;34m(\u001b[0m\u001b[0mnp\u001b[0m\u001b[0;34m.\u001b[0m\u001b[0mbincount\u001b[0m\u001b[0;34m(\u001b[0m\u001b[0mself\u001b[0m\u001b[0;34m.\u001b[0m\u001b[0my_train\u001b[0m\u001b[0;34m[\u001b[0m\u001b[0mnear_neighbors\u001b[0m\u001b[0;34m]\u001b[0m\u001b[0;34m)\u001b[0m\u001b[0;34m)\u001b[0m\u001b[0;34m\u001b[0m\u001b[0;34m\u001b[0m\u001b[0m\n\u001b[0m\u001b[1;32m     20\u001b[0m \u001b[0;34m\u001b[0m\u001b[0m\n\u001b[1;32m     21\u001b[0m         \u001b[0;32mreturn\u001b[0m \u001b[0mpredict_label\u001b[0m\u001b[0;34m\u001b[0m\u001b[0;34m\u001b[0m\u001b[0m\n",
            "\u001b[0;32m<__array_function__ internals>\u001b[0m in \u001b[0;36mbincount\u001b[0;34m(*args, **kwargs)\u001b[0m\n",
            "\u001b[0;31mValueError\u001b[0m: object too deep for desired array"
          ]
        }
      ]
    }
  ]
}