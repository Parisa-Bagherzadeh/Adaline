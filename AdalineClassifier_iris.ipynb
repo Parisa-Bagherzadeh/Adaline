{
  "nbformat": 4,
  "nbformat_minor": 0,
  "metadata": {
    "colab": {
      "name": "AdalineClassifier_iris.ipynb",
      "provenance": [],
      "collapsed_sections": []
    },
    "kernelspec": {
      "display_name": "Python 3 (ipykernel)",
      "language": "python",
      "name": "python3"
    },
    "language_info": {
      "codemirror_mode": {
        "name": "ipython",
        "version": 3
      },
      "file_extension": ".py",
      "mimetype": "text/x-python",
      "name": "python",
      "nbconvert_exporter": "python",
      "pygments_lexer": "ipython3",
      "version": "3.7.9"
    }
  },
  "cells": [
    {
      "cell_type": "code",
      "metadata": {
        "id": "Yv4vkuBkzl7Y"
      },
      "source": [
        "import numpy as np\n",
        "import matplotlib.pyplot as plt\n",
        "import pandas as pd\n",
        "from sklearn.model_selection import train_test_split\n",
        "from sklearn.datasets import load_iris"
      ],
      "execution_count": 11,
      "outputs": []
    },
    {
      "cell_type": "code",
      "metadata": {
        "id": "uYZD_VEp3M1o"
      },
      "source": [
        "iris=load_iris()\n",
        "x = iris.data[:, :4]\n",
        "y=iris.target\n",
        "Y=[]\n",
        "X=[]\n",
        "for i in range(len(y)):\n",
        "  if(y[i]==1 or y[i]==2):\n",
        "    Y.append(y[i])\n",
        "    X.append(x[i])\n",
        "\n",
        "X=np.array(X)\n",
        "Y_count=np.bincount(Y)\n",
        "Y=np.array(Y)\n",
        "#Y=Y.reshape(100,1)\n",
        "\n",
        "\n",
        "\n"
      ],
      "execution_count": 12,
      "outputs": []
    },
    {
      "cell_type": "code",
      "metadata": {
        "id": "emoDtnQ51Ds1"
      },
      "source": [
        "X_train,X_test,y_train,y_test=train_test_split(X,Y,test_size=0.2)\n"
      ],
      "execution_count": 13,
      "outputs": []
    },
    {
      "cell_type": "code",
      "metadata": {
        "id": "1tEkzd557c_i"
      },
      "source": [
        "class AdalineClassifier:\n",
        "  def __init__(self):\n",
        "    pass\n",
        "\n",
        "  def fit(self,X_train,Y_train):\n",
        "    #w=(x.T*x)^-1*x.T*y\n",
        "    self.w=np.matmul(np.linalg.inv(np.matmul(X_train.T,X_train)),np.matmul(X_train.T,Y_train))\n",
        "    #print(self.w)  \n",
        "\n",
        "  def predict(self,X_test):\n",
        "    y_pred=[]\n",
        "\n",
        "    Y_pred=np.matmul(X_test,self.w)\n",
        "    for i in range(len(Y_pred)):\n",
        "      print(Y_pred[i])\n",
        "      if(Y_pred[i] <= 1.5):\n",
        "        y_pred.append(1)\n",
        "      elif(Y_pred[i]>1.5):  \n",
        "        y_pred.append(2)\n",
        "    print(y_pred) \n",
        "    return y_pred\n",
        "      \n",
        "    \n",
        "\n",
        "  def evaluate(self,y_pred,y_test):\n",
        "    num_of_correct_pred=0\n",
        "    #self.X_test=X_test\n",
        "    #self.y_test=y_test\n",
        "    y=[]\n",
        "        \n",
        "    for i in range(len(y_test)):\n",
        "         if(y_test[i]==y_pred[i]):\n",
        "            num_of_correct_pred +=1\n",
        "     \n",
        "     \n",
        "    accuracy=(num_of_correct_pred/len(y_test))*100\n",
        "    \n",
        "        #print(num_of_correct_pred)\n",
        "    return accuracy\n",
        "      #y.append(self.predict(X_test[i]))   \n",
        "      #print(y[i])\n",
        "      \n",
        "       \n",
        "  "
      ],
      "execution_count": 14,
      "outputs": []
    },
    {
      "cell_type": "code",
      "metadata": {
        "id": "uzVU33d6_sJY"
      },
      "source": [
        "\n"
      ],
      "execution_count": 14,
      "outputs": []
    },
    {
      "cell_type": "code",
      "metadata": {
        "colab": {
          "base_uri": "https://localhost:8080/"
        },
        "id": "RSub0VjH_4PW",
        "outputId": "75d889f2-112b-4b56-a136-1b4b34ecc6e1"
      },
      "source": [
        "model=AdalineClassifier()\n",
        "model.fit(X_train,y_train)\n",
        "\n",
        "y_pred=model.predict(X_test)\n",
        "#print(len(y_pred))\n",
        "accuracy=model.evaluate(y_pred,y_test)\n",
        "print(\"Adaline Classifier accuracy =\",accuracy)\n"
      ],
      "execution_count": 15,
      "outputs": [
        {
          "output_type": "stream",
          "text": [
            "2.4360170519287236\n",
            "2.2595549013987215\n",
            "1.6002233692340584\n",
            "1.577177083230049\n",
            "2.183782682554865\n",
            "1.8165306856311778\n",
            "1.5887120504611287\n",
            "1.7590359057256748\n",
            "1.714068583853558\n",
            "0.8335866486499469\n",
            "1.364895999641675\n",
            "0.8905469382872588\n",
            "2.0946322715023453\n",
            "1.1713986433991488\n",
            "2.2047348760788164\n",
            "2.1611425467661243\n",
            "0.9914775055918348\n",
            "1.4691111764551643\n",
            "2.18388169566814\n",
            "2.1548817240511173\n",
            "[2, 2, 2, 2, 2, 2, 2, 2, 2, 1, 1, 1, 2, 1, 2, 2, 1, 1, 2, 2]\n",
            "Adaline Classifier accuracy = 95.0\n"
          ],
          "name": "stdout"
        }
      ]
    },
    {
      "cell_type": "code",
      "metadata": {
        "id": "2_JTzIdM1Ds7"
      },
      "source": [
        "class Knearestneighbors:\n",
        "  def __init__(self,k):\n",
        "    self.k=k\n",
        "\n",
        "  def fit(self,X_train,y_train):\n",
        "    self.X_train=X_train\n",
        "    self.y_train=y_train\n",
        "    self.number_of_classes=len(np.unique(y_train)) \n",
        "\n",
        "  def nearNeighbors(self,x_test):\n",
        "    distance=np.sqrt(np.sum((x_test-self.X_train)**2,axis=1))\n",
        "    near_neighbors=np.argsort(distance)[0:self.k]\n",
        "    return near_neighbors  \n",
        "\n",
        "  def predict(self,x_test):\n",
        "    near_neighbors=self.nearNeighbors(x_test)\n",
        "    y_pred=np.argmax(np.bincount(self.y_train[near_neighbors]))\n",
        "    return y_pred\n",
        "\n",
        "  def evaluate(self,X_test,y_test):\n",
        "    num_of_correct_pred=0\n",
        "    self.X_test=X_test\n",
        "    self.y_test=y_test\n",
        "\n",
        "    y=[]\n",
        "\n",
        "    for i in range(len(X_test)):\n",
        "      y.append(self.predict(X_test[i]))\n",
        "\n",
        "    for i in range(len(y)):\n",
        "      if(y_test[i]==y[i]):\n",
        "        num_of_correct_pred +=1\n",
        "\n",
        "\n",
        "    accuracy=(num_of_correct_pred/len(y_test))*100\n",
        "    return accuracy      \n",
        "\n",
        "\n",
        "        "
      ],
      "execution_count": 16,
      "outputs": []
    },
    {
      "cell_type": "code",
      "metadata": {
        "id": "lqzWfKPf1Ds9",
        "colab": {
          "base_uri": "https://localhost:8080/"
        },
        "outputId": "dd992fcf-0fe4-41af-8ed8-f7af9b6f0078"
      },
      "source": [
        "knn=Knearestneighbors(5)\n",
        "knn.fit(X_train,y_train)\n",
        "accuracy=knn.evaluate(X_test,y_test)\n",
        "print(\"KNN accuracy :\",accuracy)"
      ],
      "execution_count": 17,
      "outputs": [
        {
          "output_type": "stream",
          "text": [
            "KNN accuracy : 100.0\n"
          ],
          "name": "stdout"
        }
      ]
    },
    {
      "cell_type": "code",
      "metadata": {
        "id": "CsTpLZQR1Ds_",
        "colab": {
          "base_uri": "https://localhost:8080/"
        },
        "outputId": "1fb8ea00-d4f3-41f6-cfbb-0bfdfaf32bfb"
      },
      "source": [
        "#knn in scikitlean\n",
        "import sklearn\n",
        "from sklearn.neighbors import KNeighborsClassifier\n",
        "\n",
        "label=0\n",
        "\n",
        "KNN=KNeighborsClassifier(5)\n",
        "KNN.fit(X,Y)\n",
        "y=KNN.predict(X_test)\n",
        "for i in range(len(y_pred)):\n",
        "    if (y[i]==y_test[i]):\n",
        "        label=label+1\n",
        "        \n",
        "accuracy=(label/len(y_test))*100\n",
        "\n",
        "print(\"The accuracy of sklearn :\",accuracy)\n"
      ],
      "execution_count": 18,
      "outputs": [
        {
          "output_type": "stream",
          "text": [
            "The accuracy of sklearn : 95.0\n"
          ],
          "name": "stdout"
        }
      ]
    },
    {
      "cell_type": "code",
      "metadata": {
        "id": "vqtYPH1cSnBe"
      },
      "source": [
        ""
      ],
      "execution_count": 18,
      "outputs": []
    }
  ]
}